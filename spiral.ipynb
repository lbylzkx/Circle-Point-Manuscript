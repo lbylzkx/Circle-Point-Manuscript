{
 "cells": [
  {
   "cell_type": "markdown",
   "metadata": {},
   "source": [
    "n边形对数螺线方程：\n",
    "$\\begin{bmatrix}x=\\cos(\\frac{\\pi}{n})^\\frac{-n\\theta}{\\pi}\\cos(\\theta)\\\\\n",
    "y=\\cos(\\frac{\\pi}{n})^\\frac{-n\\theta}{\\pi}\\sin(\\theta)\\\\\n",
    "z=\\cos(\\frac{\\pi}{n})^\\frac{-n\\theta}{\\pi}\n",
    "\\end{bmatrix}$"
   ]
  },
  {
   "cell_type": "code",
   "execution_count": null,
   "metadata": {},
   "outputs": [],
   "source": [
    "from spiral import *\n",
    "fig, ax = plt.subplots(figsize=(12, 12*np.sqrt(2)))\n",
    "ax.set_aspect('equal')\n",
    "plt.axis('off')\n",
    "\n",
    "# n:n边形\n",
    "# cyc:周期(几圈)\n",
    "# theta:旋转\n",
    "n = 4\n",
    "cyc = 1\n",
    "color = 'g'\n",
    "theta = 0\n",
    "n_spiral(n, cyc, color, theta)\n",
    "plt.show()"
   ]
  },
  {
   "cell_type": "code",
   "execution_count": null,
   "metadata": {},
   "outputs": [],
   "source": []
  }
 ],
 "metadata": {
  "kernelspec": {
   "display_name": "base",
   "language": "python",
   "name": "python3"
  },
  "language_info": {
   "codemirror_mode": {
    "name": "ipython",
    "version": 3
   },
   "file_extension": ".py",
   "mimetype": "text/x-python",
   "name": "python",
   "nbconvert_exporter": "python",
   "pygments_lexer": "ipython3",
   "version": "3.11.4"
  }
 },
 "nbformat": 4,
 "nbformat_minor": 2
}
