{
 "cells": [
  {
   "cell_type": "code",
   "execution_count": 8,
   "metadata": {},
   "outputs": [
    {
     "data": {
      "text/plain": [
       "(-17.60000000000001, 17.600000000000012, -17.60000000000003, 17.60000000000003)"
      ]
     },
     "execution_count": 8,
     "metadata": {},
     "output_type": "execute_result"
    },
    {
     "data": {
      "image/png": "[encoded data removed]",
      "text/plain": [
       "<Figure size 600x600 with 1 Axes>"
      ]
     },
     "metadata": {},
     "output_type": "display_data"
    }
   ],
   "source": [
    "import numpy as np\n",
    "import matplotlib.pyplot as plt\n",
    "\n",
    "\n",
    "def x_position(n, thelta=0):\n",
    "    return np.sqrt(2)**n*np.cos(n*np.pi/4+thelta)\n",
    "\n",
    "\n",
    "def y_position(n, thelta=0):\n",
    "    return np.sqrt(2)**n*np.sin(n*np.pi/4+thelta)\n",
    "\n",
    "fig, ax = plt.subplots(figsize=(6, 6))\n",
    "ax.set_aspect('equal')\n",
    "\n",
    "x_axis_1 = [x_position(8), x_position(8, thelta=np.pi)]\n",
    "y_axis_1 = [y_position(8), y_position(8, thelta=np.pi)]\n",
    "ax.plot(x_axis_1, y_axis_1, 'gold')\n",
    "\n",
    "x_axis_2 = [x_position(8, thelta=np.pi/2), x_position(8, thelta=3*np.pi/2)]\n",
    "y_axis_2 = [y_position(8, thelta=np.pi/2), y_position(8, thelta=3*np.pi/2)]\n",
    "ax.plot(x_axis_2, y_axis_2, 'gold')\n",
    "\n",
    "x_axis_3 = [x_position(7, thelta=0), x_position(7, thelta=np.pi)]\n",
    "y_axis_3 = [y_position(7, thelta=0), y_position(7, thelta=np.pi)]\n",
    "ax.plot(x_axis_3, y_axis_3, 'gold')\n",
    "\n",
    "x_axis_4 = [x_position(7, thelta=np.pi/2), x_position(7, thelta=3*np.pi/2)]\n",
    "y_axis_4 = [y_position(7, thelta=np.pi/2), y_position(7, thelta=3*np.pi/2)]\n",
    "ax.plot(x_axis_4, y_axis_4, 'gold')\n",
    "\n",
    "\n",
    "x1 = [x_position(i, thelta=0) for i in range(-10, 10)]\n",
    "y1 = [y_position(i, thelta=0) for i in range(-10, 10)]\n",
    "ax.plot(x1, y1, 'gold')\n",
    "\n",
    "x2 = [x_position(i, thelta=np.pi/2) for i in range(-10, 10)]\n",
    "y2 = [y_position(i, thelta=np.pi/2) for i in range(-10, 10)]\n",
    "ax.plot(x2, y2, 'gold')\n",
    "\n",
    "x3 = [x_position(i, thelta=np.pi) for i in range(-10, 10)]\n",
    "y3 = [y_position(i, thelta=np.pi) for i in range(-10, 10)]\n",
    "ax.plot(x3, y3, 'gold')\n",
    "\n",
    "x4 = [x_position(i, thelta=3*np.pi/2) for i in range(-10, 10)]\n",
    "y4 = [y_position(i, thelta=3*np.pi/2) for i in range(-10, 10)]\n",
    "ax.plot(x4, y4, 'gold')\n",
    "\n",
    "# plt.axis('equal')\n",
    "plt.axis('off') \n",
    "# plt.show()\n"
   ]
  },
  {
   "cell_type": "code",
   "execution_count": 9,
   "metadata": {},
   "outputs": [],
   "source": [
    "fig.savefig('./images/wanh.png', dpi=1200)"
   ]
  },
  {
   "cell_type": "code",
   "execution_count": 5,
   "metadata": {},
   "outputs": [
    {
     "data": {
      "image/png": "[encoded data removed]",
      "text/plain": [
       "<Figure size 300x300 with 1 Axes>"
      ]
     },
     "metadata": {},
     "output_type": "display_data"
    }
   ],
   "source": [
    "import numpy as np\n",
    "import matplotlib.pyplot as plt\n",
    "from arc import *\n",
    "from 卍spiral import *\n",
    "\n",
    "\n",
    "fig, ax = plt.subplots(figsize=(3, 3))\n",
    "ax.set_aspect('equal')\n",
    "\n",
    "def x_position(n, thelta=0):\n",
    "    return np.sqrt(2)**n*np.cos(n*np.pi/4+thelta)\n",
    "\n",
    "\n",
    "def y_position(n, thelta=0):\n",
    "    return np.sqrt(2)**n*np.sin(n*np.pi/4+thelta)\n",
    "\n",
    "\n",
    "# axis\n",
    "x_axis_1 = [x_position(8), x_position(8, thelta=np.pi)]\n",
    "y_axis_1 = [y_position(8), y_position(8, thelta=np.pi)]\n",
    "plt.plot(x_axis_1, y_axis_1, 'gold')\n",
    "\n",
    "x_axis_2 = [x_position(8, thelta=np.pi/2), x_position(8, thelta=3*np.pi/2)]\n",
    "y_axis_2 = [y_position(8, thelta=np.pi/2), y_position(8, thelta=3*np.pi/2)]\n",
    "plt.plot(x_axis_2, y_axis_2, 'gold')\n",
    "\n",
    "x_axis_3 = [x_position(7, thelta=0), x_position(7, thelta=np.pi)]\n",
    "y_axis_3 = [y_position(7, thelta=0), y_position(7, thelta=np.pi)]\n",
    "plt.plot(x_axis_3, y_axis_3, 'gold')\n",
    "\n",
    "x_axis_4 = [x_position(7, thelta=np.pi/2), x_position(7, thelta=3*np.pi/2)]\n",
    "y_axis_4 = [y_position(7, thelta=np.pi/2), y_position(7, thelta=3*np.pi/2)]\n",
    "plt.plot(x_axis_4, y_axis_4, 'gold')\n",
    "# axis\n",
    "\n",
    "x1 = [x_position(i, thelta=0) for i in range(-10, 10)]\n",
    "y1 = [y_position(i, thelta=0) for i in range(-10, 10)]\n",
    "plt.plot(x1, y1, 'gold')\n",
    "\n",
    "x2 = [x_position(i, thelta=np.pi/2) for i in range(-10, 10)]\n",
    "y2 = [y_position(i, thelta=np.pi/2) for i in range(-10, 10)]\n",
    "plt.plot(x2, y2, 'gold')\n",
    "\n",
    "x3 = [x_position(i, thelta=np.pi) for i in range(-10, 10)]\n",
    "y3 = [y_position(i, thelta=np.pi) for i in range(-10, 10)]\n",
    "plt.plot(x3, y3, 'gold')\n",
    "\n",
    "x4 = [x_position(i, thelta=3*np.pi/2) for i in range(-10, 10)]\n",
    "y4 = [y_position(i, thelta=3*np.pi/2) for i in range(-10, 10)]\n",
    "plt.plot(x4, y4, 'gold')\n",
    "\n",
    "for alpha in range(0, 4):\n",
    "    for n in range(-10, 9):\n",
    "        arc((loutus_x_center(n, alpha*np.pi/2), loutus_y_center(n, alpha*np.pi/2)),\n",
    "            (loutus_x_from(n, alpha*np.pi/2), loutus_y_from(n, alpha*np.pi/2)),\n",
    "            (loutus_x_to(n, alpha*np.pi/2), loutus_y_to(n, alpha*np.pi/2)), 'gold')\n",
    "\n",
    "\n",
    "plt.axis('equal')\n",
    "plt.axis('off') \n",
    "plt.show()\n",
    "\n"
   ]
  },
  {
   "cell_type": "code",
   "execution_count": 6,
   "metadata": {},
   "outputs": [],
   "source": [
    "fig.savefig('./images/卍_spiral_glod.png', dpi=300)"
   ]
  },
  {
   "cell_type": "code",
   "execution_count": null,
   "metadata": {},
   "outputs": [],
   "source": []
  }
 ],
 "metadata": {
  "kernelspec": {
   "display_name": "base",
   "language": "python",
   "name": "python3"
  },
  "language_info": {
   "codemirror_mode": {
    "name": "ipython",
    "version": 3
   },
   "file_extension": ".py",
   "mimetype": "text/x-python",
   "name": "python",
   "nbconvert_exporter": "python",
   "pygments_lexer": "ipython3",
   "version": "3.11.4"
  },
  "orig_nbformat": 4
 },
 "nbformat": 4,
 "nbformat_minor": 2
}
