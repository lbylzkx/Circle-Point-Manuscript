{
 "cells": [
  {
   "cell_type": "markdown",
   "metadata": {},
   "source": [
    "# 点"
   ]
  },
  {
   "cell_type": "code",
   "execution_count": null,
   "metadata": {},
   "outputs": [],
   "source": [
    "from points import *\n",
    "from connect_points import *\n",
    "fig, ax = plt.subplots(figsize=(12, 12*np.sqrt(2)))\n",
    "# ax.set_aspect('equal')\n",
    "plt.axis('off')\n",
    "\n",
    "# draw_points(n_points(6, 1/2, np.pi), 'g', 300)\n",
    "draw_n_points_array(8, 3, 0, 'b')\n",
    "\n",
    "# n_points_array_inner(12, 3, -np.pi/3, 'b')\n",
    "# n_points_array_outer(8, 3, np.pi/3, 'r')\n",
    "plt.axis('equal')\n",
    "plt.show()"
   ]
  },
  {
   "cell_type": "code",
   "execution_count": null,
   "metadata": {},
   "outputs": [],
   "source": [
    "from points import *\n",
    "fig, ax = plt.subplots(figsize=(3,3))\n",
    "ax.set_aspect('equal')\n",
    "plt.axis('off')\n",
    "draw_points([[0,0]],'#0f0')"
   ]
  },
  {
   "cell_type": "code",
   "execution_count": null,
   "metadata": {},
   "outputs": [],
   "source": [
    "fig.savefig('./images/Publication/point.jpg', dpi=300)"
   ]
  },
  {
   "cell_type": "markdown",
   "metadata": {},
   "source": [
    "# 线"
   ]
  },
  {
   "cell_type": "code",
   "execution_count": null,
   "metadata": {},
   "outputs": [],
   "source": [
    "from connect_points import *\n",
    "fig, ax = plt.subplots(figsize=(12, 12*np.sqrt(2)))\n",
    "# ax.set_aspect('equal')\n",
    "plt.axis('off')\n",
    "N = 8\n",
    "R = 1\n",
    "colorl = 'g'\n",
    "colorp = 'b'\n",
    "points = n_points(N, R)\n",
    "# connect(points,color)\n",
    "# connect_with_points(points,colorp,colorl)\n",
    "# connect_all(points,color)\n",
    "connect_all_with_points(points, colorp, colorl)\n",
    "plt.axis('equal')\n",
    "plt.show()"
   ]
  },
  {
   "cell_type": "code",
   "execution_count": null,
   "metadata": {},
   "outputs": [],
   "source": [
    "from points import *\n",
    "from connect_points import *\n",
    "fig, ax = plt.subplots(figsize=(12, 12*np.sqrt(2)))\n",
    "# ax.set_aspect('equal')\n",
    "plt.axis('off')\n",
    "\n",
    "# connect_all(n_points_array(8, 3, 0))\n",
    "# draw_n_points_array(8, 3, 0, 'b')\n",
    "\n",
    "connect_all(n_points_array_inner(12, 3, -np.pi/3))\n",
    "# connect_all(n_points_array_outer(8, 3, np.pi/3))\n",
    "plt.axis('equal')\n",
    "plt.show()"
   ]
  },
  {
   "cell_type": "markdown",
   "metadata": {},
   "source": [
    "# 波(Waves)"
   ]
  },
  {
   "cell_type": "markdown",
   "metadata": {},
   "source": [
    "等比波"
   ]
  },
  {
   "cell_type": "code",
   "execution_count": null,
   "metadata": {},
   "outputs": [],
   "source": [
    "from waves import *\n",
    "\n",
    "fig, ax = plt.subplots(figsize=(4,4))\n",
    "ax.set_aspect('equal')\n",
    "plt.axis('off')\n",
    "# A:振幅Amplitude\n",
    "# F:频率Frequency\n",
    "# P:相位Phase\n",
    "# A = complex(np.e, np.pi)\n",
    "A = 1\n",
    "F = 6\n",
    "P = 12\n",
    "color = '#0f0'\n",
    "backcolor='#fff'\n",
    "fig.patch.set_facecolor(backcolor)\n",
    "wave_circle_pro(A, F, P, color)\n",
    "plt.show()"
   ]
  },
  {
   "cell_type": "code",
   "execution_count": null,
   "metadata": {},
   "outputs": [],
   "source": [
    "fig.savefig('./images/Publication/1_6_12.jpg', dpi=300)"
   ]
  },
  {
   "cell_type": "code",
   "execution_count": null,
   "metadata": {},
   "outputs": [],
   "source": [
    "from waves import *\n",
    "fig, ax = plt.subplots(figsize=(3, 3))\n",
    "ax.set_aspect('equal')\n",
    "plt.axis('off')\n",
    "circle((0,0),1,'g')"
   ]
  },
  {
   "cell_type": "code",
   "execution_count": null,
   "metadata": {},
   "outputs": [],
   "source": [
    "fig.savefig('./images/Publication/circle.jpg', dpi=300)"
   ]
  },
  {
   "cell_type": "markdown",
   "metadata": {},
   "source": [
    "等差波"
   ]
  },
  {
   "cell_type": "code",
   "execution_count": 12,
   "metadata": {},
   "outputs": [
    {
     "data": {
      "image/png": "[encoded data removed]",
      "text/plain": [
       "<Figure size 300x300 with 1 Axes>"
      ]
     },
     "metadata": {},
     "output_type": "display_data"
    }
   ],
   "source": [
    "from circle import *\n",
    "fig, ax = plt.subplots(figsize=(3, 3))\n",
    "ax.set_aspect('equal')\n",
    "A=1\n",
    "F=3\n",
    "P=1\n",
    "theta = np.pi\n",
    "np.pi/2\n",
    "color = '#0F0'\n",
    "colors = ['r', 'orange', 'yellow', 'green', 'blue', 'purple',\n",
    "          'r', 'orange', 'yellow', 'green', 'blue', 'purple']*2\n",
    "\n",
    "# ConcentricCircles((0, 0), m, d, 1, 'g')\n",
    "\n",
    "for i in range(P+1):\n",
    "    # ConcentricCircles(((np.cos(i*np.pi/6)), np.sin(i*np.pi/6)), 2, 1, color[i])\n",
    "    ConcentricCircles_o(((np.cos(2*i*np.pi/P+theta)),\n",
    "                      np.sin(2*i*np.pi/P+theta)), F, A, 1, 'g')\n",
    "# ConcentricCircles(((np.cos(2*np.pi/P+np.pi/2)),\n",
    "#                    np.sin(2*np.pi/P+np.pi/2)), F, A, 1, 'r')\n",
    "plt.axis('off')\n",
    "plt.show()"
   ]
  },
  {
   "cell_type": "code",
   "execution_count": 15,
   "metadata": {},
   "outputs": [],
   "source": [
    "fig.savefig('./images/Publication/c1_1_1.jpg', dpi=300)"
   ]
  },
  {
   "cell_type": "markdown",
   "metadata": {},
   "source": [
    "# 花(Flowers)"
   ]
  },
  {
   "cell_type": "markdown",
   "metadata": {},
   "source": [
    "圆弧绘制"
   ]
  },
  {
   "cell_type": "code",
   "execution_count": null,
   "metadata": {},
   "outputs": [],
   "source": [
    "from n_lotus import *\n",
    "from circle import *\n",
    "fig, ax = plt.subplots(figsize=(12, 12*np.sqrt(2)))\n",
    "ax.set_aspect('equal')\n",
    "plt.axis('off')\n",
    "# M:花层数\n",
    "# N：一层花瓣数\n",
    "M = 5\n",
    "# N=int(input(\"请输入：\"))\n",
    "N = 9\n",
    "color1 = '#f00'\n",
    "color2 = 'gold'\n",
    "fig.patch.set_facecolor('#ff0')\n",
    "circle((0, 0), np.sqrt(2*np.cos(np.pi/N))**2, color1)\n",
    "circle((0, 0), np.sqrt(2*np.cos(np.pi/N))**4, color1)\n",
    "lotus_n_flower(M, N, color1)\n",
    "# lotus_n_flower_similar(M, N, color1)\n",
    "\n",
    "# lotus_n_flower_with_feild(M, N, color1,color2)\n",
    "# lotus_n_flower_similar_with_feild(M, N, color1,color2)\n",
    "plt.show()"
   ]
  },
  {
   "cell_type": "markdown",
   "metadata": {},
   "source": [
    "花瓣绘制"
   ]
  },
  {
   "cell_type": "code",
   "execution_count": null,
   "metadata": {},
   "outputs": [],
   "source": [
    "from n_lotus import *\n",
    "fig, ax = plt.subplots(figsize=(12, 12*np.sqrt(2)))\n",
    "ax.set_aspect('equal')\n",
    "plt.axis('off')\n",
    "# M:花层数\n",
    "# N：一层花瓣数\n",
    "# n:花瓣基数\n",
    "M = 3\n",
    "N = 25\n",
    "n = 5\n",
    "theta = 0\n",
    "for j in range(1, M+1):\n",
    "    for i in range(0, N):\n",
    "        one_petal((0, 0), np.sqrt(2*np.cos(np.pi/n)) **\n",
    "                  (2*j-1), n, 2*i*np.pi/N+(j-1)*np.pi/N+theta, 'g')\n",
    "plt.show()"
   ]
  },
  {
   "cell_type": "markdown",
   "metadata": {},
   "source": [
    "# 螺线(Spirals)"
   ]
  },
  {
   "cell_type": "code",
   "execution_count": null,
   "metadata": {},
   "outputs": [],
   "source": [
    "from spiral import *\n",
    "fig, ax = plt.subplots(figsize=(3, 3))\n",
    "ax.set_aspect('equal')\n",
    "plt.axis('off')\n",
    "\n",
    "# n:n边形\n",
    "# cyc:周期(几圈)\n",
    "# theta:旋转\n",
    "n = 4\n",
    "cyc = 2\n",
    "color = '#0ff'\n",
    "theta = np.pi/13\n",
    "theta_rotate = np.pi/4\n",
    "# n_spiral(n, cyc, color, theta)\n",
    "n_spiral_rotate(n, cyc, color, theta_rotate)\n",
    "n_spiral_rotate(n, cyc, color, theta_rotate+np.pi/6)\n",
    "n_spiral_rotate(n, cyc, color, theta_rotate+np.pi/3)\n",
    "plt.show()"
   ]
  },
  {
   "cell_type": "code",
   "execution_count": null,
   "metadata": {},
   "outputs": [],
   "source": [
    "fig.savefig('./images/Publication/krystal_lotus.jpg', dpi=300)"
   ]
  },
  {
   "cell_type": "code",
   "execution_count": null,
   "metadata": {},
   "outputs": [],
   "source": []
  },
  {
   "cell_type": "markdown",
   "metadata": {},
   "source": [
    "$y=A\\sin(bx+c)+d$"
   ]
  },
  {
   "cell_type": "code",
   "execution_count": null,
   "metadata": {},
   "outputs": [],
   "source": []
  }
 ],
 "metadata": {
  "kernelspec": {
   "display_name": "base",
   "language": "python",
   "name": "python3"
  },
  "language_info": {
   "codemirror_mode": {
    "name": "ipython",
    "version": 3
   },
   "file_extension": ".py",
   "mimetype": "text/x-python",
   "name": "python",
   "nbconvert_exporter": "python",
   "pygments_lexer": "ipython3",
   "version": "3.11.4"
  }
 },
 "nbformat": 4,
 "nbformat_minor": 2
}
